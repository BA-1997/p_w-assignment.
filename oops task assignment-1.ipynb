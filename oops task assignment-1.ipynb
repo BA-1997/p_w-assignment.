{
 "cells": [
  {
   "cell_type": "markdown",
   "id": "cfaca1da-0d33-41dc-aa2d-7634ae67419e",
   "metadata": {},
   "source": [
    "Ques 1. Create a vehicle class with an init method having instance variables as name_of_vehicle, max_speed\n",
    "and average_of_vehicle."
   ]
  },
  {
   "cell_type": "code",
   "execution_count": 63,
   "id": "d2f82403-c252-4749-b995-9a72f9e4803b",
   "metadata": {},
   "outputs": [],
   "source": [
    "class vehicle:\n",
    "    def __init__(self, name_of_vehicle, max_speed, average_of_vehicle):\n",
    "        self.name_of_vehicle=name_of_vehicle\n",
    "        self.max_speed=max_speed\n",
    "        self.average_of_vehicle=average_of_vehicle\n",
    "    def get_vehicle_details(self):\n",
    "        return self.name_of_vehicle,self.max_speed,self.average_of_vehicle\n",
    "        "
   ]
  },
  {
   "cell_type": "code",
   "execution_count": 64,
   "id": "dc7c0fc9-e2be-4241-8f4f-8be466435c89",
   "metadata": {},
   "outputs": [],
   "source": [
    "car=vehicle(\"dezire\",240,17.7)"
   ]
  },
  {
   "cell_type": "code",
   "execution_count": 67,
   "id": "5068a8c5-39a7-4702-90c7-9ee5378c8ae5",
   "metadata": {},
   "outputs": [
    {
     "data": {
      "text/plain": [
       "('dezire', 240, 17.7)"
      ]
     },
     "execution_count": 67,
     "metadata": {},
     "output_type": "execute_result"
    }
   ],
   "source": [
    "car.get_vehicle_details()"
   ]
  },
  {
   "cell_type": "markdown",
   "id": "aa0def5e-63a2-493d-8196-24c9fc941217",
   "metadata": {},
   "source": [
    "Ques 2. Create a child class car from the vehicle class created in Que 1, which will inherit the vehicle class.\n",
    "Create a method named seating_capacity which takes capacity as an argument and returns the name of\n",
    "the vehicle and its seating capacity."
   ]
  },
  {
   "cell_type": "code",
   "execution_count": 32,
   "id": "0645690f-9ffa-4017-a7e3-afd13ebfd505",
   "metadata": {},
   "outputs": [
    {
     "name": "stdout",
     "output_type": "stream",
     "text": [
      "dezire - Seating Capacity: 5\n"
     ]
    }
   ],
   "source": [
    "class Vehicle:\n",
    "    def __init__(self, name_of_vehicle, max_speed, average_of_vehicle):\n",
    "        self.name_of_vehicle = name_of_vehicle\n",
    "        self.max_speed = max_speed\n",
    "        self.average_speed = average_of_vehicle\n",
    "\n",
    "class Car(Vehicle):\n",
    "    def __init__(self, name_of_vehicle, max_speed, average_of_vehicle):\n",
    "        super().__init__(name_of_vehicle, max_speed, average_of_vehicle)\n",
    "    \n",
    "    def seating_capacity(self, capacity):\n",
    "        return f\"{self.name_of_vehicle} - Seating Capacity: {capacity}\"\n",
    "car = Car(\"dezire\", 240, 17.7)\n",
    "capacity_info = car.seating_capacity(5)\n",
    "print(capacity_info)\n"
   ]
  },
  {
   "cell_type": "markdown",
   "id": "265ac71b-875a-45d1-9d78-b4175ea9c736",
   "metadata": {},
   "source": [
    "Ques 3. What is multiple inheritance? Write a python code to demonstrate multiple inheritance."
   ]
  },
  {
   "cell_type": "markdown",
   "id": "cd8e3e5e-f69e-4608-9c47-14d29eb3bf2d",
   "metadata": {},
   "source": [
    "Ans: Inheritance allows us to define a class that inherits all the methods and properties from another class.\n",
    "1. Parent class is the class being inherited from, also called base class.\n",
    "2. Child class is the class that inherits from another class, also called derived class."
   ]
  },
  {
   "cell_type": "code",
   "execution_count": 33,
   "id": "75949f6e-93bd-4523-aaf9-0ec0b0691743",
   "metadata": {},
   "outputs": [
    {
     "name": "stdout",
     "output_type": "stream",
     "text": [
      "Chirp!\n",
      "Flying!\n",
      "Blub!\n",
      "Swimming!\n"
     ]
    }
   ],
   "source": [
    "class Animal:\n",
    "    def __init__(self, species):\n",
    "        self.species = species\n",
    "\n",
    "    def speak(self):\n",
    "        pass  # Placeholder for the speak method\n",
    "\n",
    "class CanFly:\n",
    "    def fly(self):\n",
    "        print(\"Flying!\")\n",
    "\n",
    "class CanSwim:\n",
    "    def swim(self):\n",
    "        print(\"Swimming!\")\n",
    "\n",
    "class Bird(Animal, CanFly):\n",
    "    def __init__(self, species):\n",
    "        super().__init__(species)\n",
    "\n",
    "    def speak(self):\n",
    "        print(\"Chirp!\")\n",
    "\n",
    "class Fish(Animal, CanSwim):\n",
    "    def __init__(self, species):\n",
    "        super().__init__(species)\n",
    "\n",
    "    def speak(self):\n",
    "        print(\"Blub!\")\n",
    "        \n",
    "parrot = Bird(\"Parrot\")\n",
    "shark = Fish(\"Shark\")\n",
    "\n",
    "parrot.speak()  # Output: Chirp!\n",
    "parrot.fly()    # Output: Flying!\n",
    "\n",
    "shark.speak()   # Output: Blub!\n",
    "shark.swim()    # Output: Swimming!\n"
   ]
  },
  {
   "cell_type": "markdown",
   "id": "2b5de9ba-71f4-44bd-a717-b6b1183d1ef6",
   "metadata": {},
   "source": [
    "Ques 4. What are getter and setter in python? Create a class and create a getter and a setter method in this\n",
    "class."
   ]
  },
  {
   "cell_type": "markdown",
   "id": "53e1c8a0-7374-4c99-afcd-a8202a27578b",
   "metadata": {},
   "source": [
    "Ans:n Python, getter and setter methods are used to access and modify class attributes (instance variables) in a controlled manner. They provide an interface to retrieve and update the values of private attributes, encapsulating the underlying details of the attribute's implementation. Getters are used to retrieve the value of an attribute, while setters are used to modify the value of an attribute."
   ]
  },
  {
   "cell_type": "code",
   "execution_count": 34,
   "id": "1f05ee54-12b8-4924-9f14-3561808858c4",
   "metadata": {},
   "outputs": [
    {
     "name": "stdout",
     "output_type": "stream",
     "text": [
      "Name: Alice\n",
      "Age: 20\n"
     ]
    }
   ],
   "source": [
    "class Student:\n",
    "    def __init__(self, name, age):\n",
    "        self._name = name   \n",
    "        self._age = age\n",
    "\n",
    "    \n",
    "    def get_name(self):\n",
    "        return self._name\n",
    "\n",
    "    \n",
    "    def set_name(self, new_name):\n",
    "        self._name = new_name\n",
    "\n",
    "    \n",
    "    def get_age(self):\n",
    "        return self._age\n",
    "\n",
    "    \n",
    "    def set_age(self, new_age):\n",
    "        if new_age >= 0:\n",
    "            self._age = new_age\n",
    "        else:\n",
    "            print(\"Age cannot be negative\")\n",
    "            \n",
    "student = Student(\"Alice\", 20)\n",
    "\n",
    "print(\"Name:\", student.get_name())  \n",
    "print(\"Age:\", student.get_age())   \n"
   ]
  },
  {
   "cell_type": "markdown",
   "id": "385bd902-5d53-4bbb-b71d-b7674e162988",
   "metadata": {},
   "source": [
    "Ques 5.What is method overriding in python? Write a python code to demonstrate method overriding."
   ]
  },
  {
   "cell_type": "markdown",
   "id": "1e8fc344-1451-4f92-b5fc-da1fee51083b",
   "metadata": {},
   "source": [
    "Ans: Method overriding is a feature in object-oriented programming where a subclass provides a specific implementation of a method that is already defined in its parent class. When a subclass overrides a method, it provides its own version of that method that is called instead of the method from the parent class when the method is invoked on instances of the subclass."
   ]
  },
  {
   "cell_type": "code",
   "execution_count": 35,
   "id": "9725ff85-9f54-4f51-805d-f4f312cac582",
   "metadata": {},
   "outputs": [
    {
     "name": "stdout",
     "output_type": "stream",
     "text": [
      "Dog barks\n",
      "Cat meows\n"
     ]
    }
   ],
   "source": [
    "class Animal:\n",
    "    def speak(self):\n",
    "        print(\"Animal speaks\")\n",
    "\n",
    "class Dog(Animal):\n",
    "    def speak(self):\n",
    "        print(\"Dog barks\")\n",
    "\n",
    "class Cat(Animal):\n",
    "    def speak(self):\n",
    "        print(\"Cat meows\")\n",
    "\n",
    "dog = Dog()\n",
    "cat = Cat()\n",
    "\n",
    "dog.speak()  \n",
    "cat.speak() \n"
   ]
  },
  {
   "cell_type": "code",
   "execution_count": null,
   "id": "7add0db6-40e7-41cb-b3e4-e6276afbb13f",
   "metadata": {},
   "outputs": [],
   "source": []
  }
 ],
 "metadata": {
  "kernelspec": {
   "display_name": "Python 3 (ipykernel)",
   "language": "python",
   "name": "python3"
  },
  "language_info": {
   "codemirror_mode": {
    "name": "ipython",
    "version": 3
   },
   "file_extension": ".py",
   "mimetype": "text/x-python",
   "name": "python",
   "nbconvert_exporter": "python",
   "pygments_lexer": "ipython3",
   "version": "3.11.4"
  }
 },
 "nbformat": 4,
 "nbformat_minor": 5
}
