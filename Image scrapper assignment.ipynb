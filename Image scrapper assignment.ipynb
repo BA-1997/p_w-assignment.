{
 "cells": [
  {
   "cell_type": "markdown",
   "id": "4a219c97-a8ee-4029-82df-3408272b3c8b",
   "metadata": {},
   "source": [
    "# Go to this given URL and solve the following questions."
   ]
  },
  {
   "cell_type": "markdown",
   "id": "8ff66aad-940f-4722-8872-16ccdbd10901",
   "metadata": {},
   "source": [
    "# URL: https://www.youtube.com/@PW-Foundation/videos"
   ]
  },
  {
   "cell_type": "code",
   "execution_count": 1,
   "id": "8eb0b666-b824-4a07-89d7-ba0ce066c97d",
   "metadata": {},
   "outputs": [
    {
     "name": "stdout",
     "output_type": "stream",
     "text": [
      "Collecting selenium\n",
      "  Obtaining dependency information for selenium from https://files.pythonhosted.org/packages/b4/f9/e9ac5e4c5d84b07c7d117d67b2c84be221bcb9e62ff31fd0a1bbc06099c0/selenium-4.19.0-py3-none-any.whl.metadata\n",
      "  Downloading selenium-4.19.0-py3-none-any.whl.metadata (6.9 kB)\n",
      "Requirement already satisfied: urllib3[socks]<3,>=1.26 in c:\\users\\onebh\\anaconda3\\lib\\site-packages (from selenium) (1.26.16)\n",
      "Collecting trio~=0.17 (from selenium)\n",
      "  Obtaining dependency information for trio~=0.17 from https://files.pythonhosted.org/packages/17/c9/f86f89f14d52f9f2f652ce24cb2f60141a51d087db1563f3fba94ba07346/trio-0.25.0-py3-none-any.whl.metadata\n",
      "  Downloading trio-0.25.0-py3-none-any.whl.metadata (8.7 kB)\n",
      "Collecting trio-websocket~=0.9 (from selenium)\n",
      "  Obtaining dependency information for trio-websocket~=0.9 from https://files.pythonhosted.org/packages/48/be/a9ae5f50cad5b6f85bd2574c2c923730098530096e170c1ce7452394d7aa/trio_websocket-0.11.1-py3-none-any.whl.metadata\n",
      "  Downloading trio_websocket-0.11.1-py3-none-any.whl.metadata (4.7 kB)\n",
      "Requirement already satisfied: certifi>=2021.10.8 in c:\\users\\onebh\\anaconda3\\lib\\site-packages (from selenium) (2023.7.22)\n",
      "Collecting typing_extensions>=4.9.0 (from selenium)\n",
      "  Obtaining dependency information for typing_extensions>=4.9.0 from https://files.pythonhosted.org/packages/f9/de/dc04a3ea60b22624b51c703a84bbe0184abcd1d0b9bc8074b5d6b7ab90bb/typing_extensions-4.10.0-py3-none-any.whl.metadata\n",
      "  Downloading typing_extensions-4.10.0-py3-none-any.whl.metadata (3.0 kB)\n",
      "Collecting attrs>=23.2.0 (from trio~=0.17->selenium)\n",
      "  Obtaining dependency information for attrs>=23.2.0 from https://files.pythonhosted.org/packages/e0/44/827b2a91a5816512fcaf3cc4ebc465ccd5d598c45cefa6703fcf4a79018f/attrs-23.2.0-py3-none-any.whl.metadata\n",
      "  Downloading attrs-23.2.0-py3-none-any.whl.metadata (9.5 kB)\n",
      "Requirement already satisfied: sortedcontainers in c:\\users\\onebh\\anaconda3\\lib\\site-packages (from trio~=0.17->selenium) (2.4.0)\n",
      "Requirement already satisfied: idna in c:\\users\\onebh\\anaconda3\\lib\\site-packages (from trio~=0.17->selenium) (3.4)\n",
      "Collecting outcome (from trio~=0.17->selenium)\n",
      "  Obtaining dependency information for outcome from https://files.pythonhosted.org/packages/55/8b/5ab7257531a5d830fc8000c476e63c935488d74609b50f9384a643ec0a62/outcome-1.3.0.post0-py2.py3-none-any.whl.metadata\n",
      "  Downloading outcome-1.3.0.post0-py2.py3-none-any.whl.metadata (2.6 kB)\n",
      "Collecting sniffio>=1.3.0 (from trio~=0.17->selenium)\n",
      "  Obtaining dependency information for sniffio>=1.3.0 from https://files.pythonhosted.org/packages/e9/44/75a9c9421471a6c4805dbf2356f7c181a29c1879239abab1ea2cc8f38b40/sniffio-1.3.1-py3-none-any.whl.metadata\n",
      "  Downloading sniffio-1.3.1-py3-none-any.whl.metadata (3.9 kB)\n",
      "Requirement already satisfied: cffi>=1.14 in c:\\users\\onebh\\anaconda3\\lib\\site-packages (from trio~=0.17->selenium) (1.15.1)\n",
      "Collecting wsproto>=0.14 (from trio-websocket~=0.9->selenium)\n",
      "  Obtaining dependency information for wsproto>=0.14 from https://files.pythonhosted.org/packages/78/58/e860788190eba3bcce367f74d29c4675466ce8dddfba85f7827588416f01/wsproto-1.2.0-py3-none-any.whl.metadata\n",
      "  Downloading wsproto-1.2.0-py3-none-any.whl.metadata (5.6 kB)\n",
      "Requirement already satisfied: PySocks!=1.5.7,<2.0,>=1.5.6 in c:\\users\\onebh\\anaconda3\\lib\\site-packages (from urllib3[socks]<3,>=1.26->selenium) (1.7.1)\n",
      "Requirement already satisfied: pycparser in c:\\users\\onebh\\anaconda3\\lib\\site-packages (from cffi>=1.14->trio~=0.17->selenium) (2.21)\n",
      "Collecting h11<1,>=0.9.0 (from wsproto>=0.14->trio-websocket~=0.9->selenium)\n",
      "  Obtaining dependency information for h11<1,>=0.9.0 from https://files.pythonhosted.org/packages/95/04/ff642e65ad6b90db43e668d70ffb6736436c7ce41fcc549f4e9472234127/h11-0.14.0-py3-none-any.whl.metadata\n",
      "  Downloading h11-0.14.0-py3-none-any.whl.metadata (8.2 kB)\n",
      "Downloading selenium-4.19.0-py3-none-any.whl (10.5 MB)\n",
      "   ---------------------------------------- 0.0/10.5 MB ? eta -:--:--\n",
      "   ---------------------------------------- 0.1/10.5 MB 2.3 MB/s eta 0:00:05\n",
      "    --------------------------------------- 0.2/10.5 MB 3.0 MB/s eta 0:00:04\n",
      "   - -------------------------------------- 0.4/10.5 MB 3.3 MB/s eta 0:00:04\n",
      "   -- ------------------------------------- 0.6/10.5 MB 3.5 MB/s eta 0:00:03\n",
      "   --- ------------------------------------ 0.9/10.5 MB 4.0 MB/s eta 0:00:03\n",
      "   --- ------------------------------------ 1.0/10.5 MB 3.9 MB/s eta 0:00:03\n",
      "   ----- ---------------------------------- 1.4/10.5 MB 4.5 MB/s eta 0:00:03\n",
      "   ------ --------------------------------- 1.7/10.5 MB 4.6 MB/s eta 0:00:02\n",
      "   ------ --------------------------------- 1.8/10.5 MB 4.8 MB/s eta 0:00:02\n",
      "   ------- -------------------------------- 2.1/10.5 MB 4.5 MB/s eta 0:00:02\n",
      "   --------- ------------------------------ 2.4/10.5 MB 4.8 MB/s eta 0:00:02\n",
      "   --------- ------------------------------ 2.5/10.5 MB 4.6 MB/s eta 0:00:02\n",
      "   ---------- ----------------------------- 2.8/10.5 MB 4.7 MB/s eta 0:00:02\n",
      "   ----------- ---------------------------- 3.1/10.5 MB 4.8 MB/s eta 0:00:02\n",
      "   ------------- -------------------------- 3.4/10.5 MB 5.0 MB/s eta 0:00:02\n",
      "   -------------- ------------------------- 3.8/10.5 MB 5.1 MB/s eta 0:00:02\n",
      "   --------------- ------------------------ 4.1/10.5 MB 5.3 MB/s eta 0:00:02\n",
      "   ----------------- ---------------------- 4.5/10.5 MB 5.5 MB/s eta 0:00:02\n",
      "   ------------------ --------------------- 4.9/10.5 MB 5.6 MB/s eta 0:00:02\n",
      "   -------------------- ------------------- 5.3/10.5 MB 5.8 MB/s eta 0:00:01\n",
      "   -------------------- ------------------- 5.5/10.5 MB 5.6 MB/s eta 0:00:01\n",
      "   ---------------------- ----------------- 5.8/10.5 MB 5.7 MB/s eta 0:00:01\n",
      "   ----------------------- ---------------- 6.2/10.5 MB 5.8 MB/s eta 0:00:01\n",
      "   ----------------------- ---------------- 6.2/10.5 MB 5.8 MB/s eta 0:00:01\n",
      "   ------------------------ --------------- 6.5/10.5 MB 5.7 MB/s eta 0:00:01\n",
      "   ------------------------- -------------- 6.6/10.5 MB 5.6 MB/s eta 0:00:01\n",
      "   -------------------------- ------------- 7.1/10.5 MB 5.7 MB/s eta 0:00:01\n",
      "   --------------------------- ------------ 7.3/10.5 MB 5.7 MB/s eta 0:00:01\n",
      "   ----------------------------- ---------- 7.8/10.5 MB 5.8 MB/s eta 0:00:01\n",
      "   ------------------------------ --------- 8.1/10.5 MB 5.8 MB/s eta 0:00:01\n",
      "   ------------------------------- -------- 8.4/10.5 MB 5.9 MB/s eta 0:00:01\n",
      "   --------------------------------- ------ 8.7/10.5 MB 5.9 MB/s eta 0:00:01\n",
      "   --------------------------------- ------ 8.7/10.5 MB 5.9 MB/s eta 0:00:01\n",
      "   ---------------------------------- ----- 9.1/10.5 MB 5.8 MB/s eta 0:00:01\n",
      "   ----------------------------------- ---- 9.4/10.5 MB 5.9 MB/s eta 0:00:01\n",
      "   ------------------------------------- -- 10.0/10.5 MB 6.0 MB/s eta 0:00:01\n",
      "   ------------------------------------- -- 10.0/10.5 MB 5.8 MB/s eta 0:00:01\n",
      "   -------------------------------------- - 10.0/10.5 MB 5.7 MB/s eta 0:00:01\n",
      "   -------------------------------------- - 10.1/10.5 MB 5.7 MB/s eta 0:00:01\n",
      "   ---------------------------------------  10.3/10.5 MB 5.6 MB/s eta 0:00:01\n",
      "   ---------------------------------------  10.3/10.5 MB 5.5 MB/s eta 0:00:01\n",
      "   ---------------------------------------  10.5/10.5 MB 5.6 MB/s eta 0:00:01\n",
      "   ---------------------------------------- 10.5/10.5 MB 5.4 MB/s eta 0:00:00\n",
      "Downloading trio-0.25.0-py3-none-any.whl (467 kB)\n",
      "   ---------------------------------------- 0.0/467.2 kB ? eta -:--:--\n",
      "   -------------- ------------------------- 174.1/467.2 kB 3.5 MB/s eta 0:00:01\n",
      "   ---------------------------------------  460.8/467.2 kB 4.8 MB/s eta 0:00:01\n",
      "   ---------------------------------------- 467.2/467.2 kB 4.2 MB/s eta 0:00:00\n",
      "Downloading trio_websocket-0.11.1-py3-none-any.whl (17 kB)\n",
      "Downloading typing_extensions-4.10.0-py3-none-any.whl (33 kB)\n",
      "Downloading attrs-23.2.0-py3-none-any.whl (60 kB)\n",
      "   ---------------------------------------- 0.0/60.8 kB ? eta -:--:--\n",
      "   ---------------------------------------- 60.8/60.8 kB ? eta 0:00:00\n",
      "Downloading sniffio-1.3.1-py3-none-any.whl (10 kB)\n",
      "Downloading wsproto-1.2.0-py3-none-any.whl (24 kB)\n",
      "Downloading outcome-1.3.0.post0-py2.py3-none-any.whl (10 kB)\n",
      "Downloading h11-0.14.0-py3-none-any.whl (58 kB)\n",
      "   ---------------------------------------- 0.0/58.3 kB ? eta -:--:--\n",
      "   ---------------------------------------- 58.3/58.3 kB 3.0 MB/s eta 0:00:00\n",
      "Installing collected packages: typing_extensions, sniffio, h11, attrs, wsproto, outcome, trio, trio-websocket, selenium\n",
      "  Attempting uninstall: typing_extensions\n",
      "    Found existing installation: typing_extensions 4.7.1\n",
      "    Uninstalling typing_extensions-4.7.1:\n",
      "      Successfully uninstalled typing_extensions-4.7.1\n",
      "  Attempting uninstall: sniffio\n",
      "    Found existing installation: sniffio 1.2.0\n",
      "    Uninstalling sniffio-1.2.0:\n",
      "      Successfully uninstalled sniffio-1.2.0\n",
      "  Attempting uninstall: attrs\n",
      "    Found existing installation: attrs 23.1.0\n",
      "    Uninstalling attrs-23.1.0:\n",
      "      Successfully uninstalled attrs-23.1.0\n",
      "Successfully installed attrs-23.2.0 h11-0.14.0 outcome-1.3.0.post0 selenium-4.19.0 sniffio-1.3.1 trio-0.25.0 trio-websocket-0.11.1 typing_extensions-4.10.0 wsproto-1.2.0\n",
      "Note: you may need to restart the kernel to use updated packages.\n"
     ]
    }
   ],
   "source": [
    "pip install selenium"
   ]
  },
  {
   "cell_type": "code",
   "execution_count": 2,
   "id": "401de717-1ba9-4e7a-8a66-4b342a6cf2a2",
   "metadata": {},
   "outputs": [
    {
     "name": "stdout",
     "output_type": "stream",
     "text": [
      "Collecting bs4Note: you may need to restart the kernel to use updated packages.\n",
      "\n",
      "  Obtaining dependency information for bs4 from https://files.pythonhosted.org/packages/51/bb/bf7aab772a159614954d84aa832c129624ba6c32faa559dfb200a534e50b/bs4-0.0.2-py2.py3-none-any.whl.metadata\n",
      "  Downloading bs4-0.0.2-py2.py3-none-any.whl.metadata (411 bytes)\n",
      "Requirement already satisfied: beautifulsoup4 in c:\\users\\onebh\\anaconda3\\lib\\site-packages (from bs4) (4.12.2)\n",
      "Requirement already satisfied: soupsieve>1.2 in c:\\users\\onebh\\anaconda3\\lib\\site-packages (from beautifulsoup4->bs4) (2.4)\n",
      "Downloading bs4-0.0.2-py2.py3-none-any.whl (1.2 kB)\n",
      "Installing collected packages: bs4\n",
      "Successfully installed bs4-0.0.2\n"
     ]
    }
   ],
   "source": [
    "pip install bs4"
   ]
  },
  {
   "cell_type": "code",
   "execution_count": 1,
   "id": "03efbe14-30ed-4279-a1c9-acef7a962174",
   "metadata": {},
   "outputs": [],
   "source": [
    "from selenium import webdriver\n",
    "import pandas as pd\n",
    "from selenium.webdriver.common.by import By\n",
    "from bs4 import BeautifulSoup"
   ]
  },
  {
   "cell_type": "code",
   "execution_count": 2,
   "id": "ac7240d1-45c2-46e7-96ed-e283efed2ba9",
   "metadata": {},
   "outputs": [],
   "source": [
    "Browser = webdriver.Chrome()"
   ]
  },
  {
   "cell_type": "code",
   "execution_count": 3,
   "id": "67add954-6af7-4de5-bb39-f083994bdced",
   "metadata": {},
   "outputs": [],
   "source": [
    "url = \"https://www.youtube.com/@PW-Foundation/videos\""
   ]
  },
  {
   "cell_type": "code",
   "execution_count": 4,
   "id": "209e3acf-d7cc-496b-91d0-6c0315e92e16",
   "metadata": {},
   "outputs": [],
   "source": [
    "Browser.get(url)"
   ]
  },
  {
   "cell_type": "markdown",
   "id": "100ed2b3-9b71-488a-9b4c-32f1b39fce4c",
   "metadata": {},
   "source": [
    "# Q1. Write a python program to extract the video URL of the first five videos."
   ]
  },
  {
   "cell_type": "code",
   "execution_count": 5,
   "id": "f77a23dd-fff9-4a5e-b532-158d2ab42a11",
   "metadata": {},
   "outputs": [
    {
     "data": {
      "text/plain": [
       "['https://www.youtube.com/watch?v=OQmnRugBlbU',\n",
       " 'https://www.youtube.com/watch?v=73KzWxffJJ8',\n",
       " 'https://www.youtube.com/watch?v=xn8EYLeG6EQ',\n",
       " 'https://www.youtube.com/watch?v=uTEn97aLf6U',\n",
       " 'https://www.youtube.com/watch?v=e__esyaNEuI']"
      ]
     },
     "execution_count": 5,
     "metadata": {},
     "output_type": "execute_result"
    }
   ],
   "source": [
    "# Finding Video Url by using Tag Name\n",
    "links = Browser.find_elements(By.TAG_NAME,\"a\")\n",
    "video_urls = []\n",
    "for i in links:\n",
    "    url = i.get_attribute(\"href\")\n",
    "    video_urls.append(url)\n",
    "\n",
    "first_5_video_links = []\n",
    "for url in video_urls:\n",
    "    if url == None or \"/watch?v=\" not in url or url in first_5_video_links:\n",
    "        continue\n",
    "    else:\n",
    "        if len(first_5_video_links) == 5:\n",
    "            break\n",
    "        first_5_video_links.append(url)\n",
    "first_5_video_links"
   ]
  },
  {
   "cell_type": "markdown",
   "id": "99c49006-bc96-46ff-9997-71123debae57",
   "metadata": {},
   "source": [
    "# Q2. Write a python program to extract the URL of the video thumbnails of the first five videos."
   ]
  },
  {
   "cell_type": "code",
   "execution_count": 6,
   "id": "9d2efb32-c6a2-457d-9268-23e739fd5e47",
   "metadata": {},
   "outputs": [
    {
     "data": {
      "text/plain": [
       "['https://i.ytimg.com/vi/OQmnRugBlbU/hqdefault.jpg?sqp=-oaymwEcCNACELwBSFXyq4qpAw4IARUAAIhCGAFwAcABBg==&rs=AOn4CLC5jMmcWzi2nyCe67arUNnsvKgyiw',\n",
       " 'https://i.ytimg.com/vi/73KzWxffJJ8/hqdefault.jpg?sqp=-oaymwEcCNACELwBSFXyq4qpAw4IARUAAIhCGAFwAcABBg==&rs=AOn4CLAJyszBADdl3fibHYRccBPbW5-cjw',\n",
       " 'https://i.ytimg.com/vi/xn8EYLeG6EQ/hqdefault.jpg?sqp=-oaymwEcCNACELwBSFXyq4qpAw4IARUAAIhCGAFwAcABBg==&rs=AOn4CLB89kOMoLSuChTL96wB_94xshojjg',\n",
       " 'Url not found']"
      ]
     },
     "execution_count": 6,
     "metadata": {},
     "output_type": "execute_result"
    }
   ],
   "source": [
    "thumbnail = Browser.find_elements(By.XPATH,\"//*[@id='thumbnail']/yt-image/img\")\n",
    "thumbnail_list = []\n",
    "for i in thumbnail:\n",
    "    t=i.get_attribute(\"src\")\n",
    "    if t == None:\n",
    "        continue\n",
    "    thumbnail_list.append(t)\n",
    "\n",
    "thumbnail_list.append(\"Url not found\")\n",
    "thumbnail_list"
   ]
  },
  {
   "cell_type": "markdown",
   "id": "796a0575-4b5b-492f-8b43-ae7fd6d87202",
   "metadata": {},
   "source": [
    "# Q3. Write a python program to extract the title of the first five videos."
   ]
  },
  {
   "cell_type": "code",
   "execution_count": 19,
   "id": "4989a608-920f-4beb-9362-9c5468024108",
   "metadata": {},
   "outputs": [
    {
     "data": {
      "text/plain": [
       "[\"Who'll Teach you Mathematics in Class 11th? Arjuna JEE !! 🔥\",\n",
       " 'Commerce - The Game Changer Stream 🔥🔥',\n",
       " 'Rankers Admission Test For Class 9th & 10th 🔥 | Complete Information 🚨',\n",
       " 'Class 10th Over !! SCIENCE vs COMMERCE vs ARTS - Kya Lu? All Confusion Cleared 🔥',\n",
       " 'क्या Class 10th CBSE Board Exam दो बार होंगे?😲 -- Still Confused❓ | Important UPDATE']"
      ]
     },
     "execution_count": 19,
     "metadata": {},
     "output_type": "execute_result"
    }
   ],
   "source": [
    "# Finding Title by using TagName \n",
    "yt_links = Browser.find_elements(By.TAG_NAME,\"yt-formatted-string\")\n",
    "link = []\n",
    "for i in yt_links:\n",
    "    temp = i.text\n",
    "    link.append(temp)\n",
    "\n",
    "link = link[26:]\n",
    "title = []\n",
    "for i in link:\n",
    "    if i == '':\n",
    "        continue\n",
    "    else:\n",
    "        if len(title)==5:\n",
    "            break\n",
    "        title.append(i)\n",
    "title"
   ]
  },
  {
   "cell_type": "code",
   "execution_count": 13,
   "id": "6ba4a8e3-7599-468f-832b-523fd8ff92e1",
   "metadata": {},
   "outputs": [
    {
     "data": {
      "text/plain": [
       "['7 DAYS TO GO -- UDAAN Batch 2025 !!🔥',\n",
       " 'THE GOAT OF PHYSICS - Class 11 JEE 🔥',\n",
       " \"Who'll Teach you Mathematics in Class 11th? Arjuna JEE !! 🔥\",\n",
       " 'Commerce - The Game Changer Stream 🔥🔥',\n",
       " 'Rankers Admission Test For Class 9th & 10th 🔥 | Complete Information 🚨']"
      ]
     },
     "execution_count": 13,
     "metadata": {},
     "output_type": "execute_result"
    }
   ],
   "source": [
    "#Finding First 5 Title by using XPath\n",
    "your_links = Browser.find_elements(By.XPATH,\"//*[@id = 'video-title']\")\n",
    "title_list = []\n",
    "for i in your_links:\n",
    "    t= i.text\n",
    "    if len(title_list) ==5:\n",
    "        break\n",
    "    title_list.append(t)\n",
    "title_list"
   ]
  },
  {
   "cell_type": "markdown",
   "id": "09664ceb-864d-4563-bba2-846f9ec4ae08",
   "metadata": {},
   "source": [
    "# Q4. Write a python program to extract the number of views of the first five videos."
   ]
  },
  {
   "cell_type": "code",
   "execution_count": 14,
   "id": "6011af30-1e9e-46ce-8b42-c7e8e6b2013b",
   "metadata": {},
   "outputs": [
    {
     "data": {
      "text/plain": [
       "['10K views', '108K views', '116K views', '48K views', '21K views']"
      ]
     },
     "execution_count": 14,
     "metadata": {},
     "output_type": "execute_result"
    }
   ],
   "source": [
    "views = Browser.find_elements(By.XPATH,\"//*[@id='metadata-line']/span[1]\")\n",
    "views_list = []\n",
    "for i in views:\n",
    "    t=i.text\n",
    "    if len(views_list)==5:\n",
    "        break\n",
    "    views_list.append(t)\n",
    "views_list"
   ]
  },
  {
   "cell_type": "markdown",
   "id": "3f59372c-dc12-4a5f-95b4-c1221a1855d7",
   "metadata": {},
   "source": [
    "# Q5. Write a python program to extract the time of posting of video for the first five videos."
   ]
  },
  {
   "cell_type": "code",
   "execution_count": 15,
   "id": "f82bf000-f872-4578-8fe2-933de0941994",
   "metadata": {},
   "outputs": [
    {
     "data": {
      "text/plain": [
       "['15 hours ago', '2 days ago', '4 days ago', '4 days ago', '5 days ago']"
      ]
     },
     "execution_count": 15,
     "metadata": {},
     "output_type": "execute_result"
    }
   ],
   "source": [
    "times = Browser.find_elements(By.XPATH,\"//*[@id='metadata-line']/span[2]\")\n",
    "time_list = []\n",
    "for i in times:\n",
    "    t=i.text\n",
    "    if len(time_list)==5:\n",
    "        break\n",
    "    time_list.append(t)\n",
    "time_list"
   ]
  },
  {
   "cell_type": "markdown",
   "id": "0e77a0e4-1884-4f1c-ba8d-a740dd02f805",
   "metadata": {},
   "source": [
    "# Q6. Save all the data scraped in the above questions in a CSV file."
   ]
  },
  {
   "cell_type": "code",
   "execution_count": 16,
   "id": "34fcef67-588f-4d82-b5ef-51d33808b45e",
   "metadata": {},
   "outputs": [],
   "source": [
    "import csv"
   ]
  },
  {
   "cell_type": "code",
   "execution_count": 25,
   "id": "5c4dcb01-b170-43f8-abc5-69f7c6fcb875",
   "metadata": {},
   "outputs": [],
   "source": [
    "reviews=[]\n",
    "for i in range(4):\n",
    "    my_dict = {\"VideoLink\": str(first_5_video_links[i]),\n",
    "               \"ThumbnailUrl\": str(thumbnail_list[i]),\n",
    "               \"VideoTitle\": str(title_list[i]),\n",
    "               \"Views\": str(views_list[i]),\n",
    "               \"Time of upload\": str(time_list[i])}\n",
    "    reviews.append(my_dict)\n",
    "with open(\"Video_details.csv\",\"w\",newline = '', encoding=\"utf-8\") as fw:\n",
    "    headers = [\"VideoLink\",\"ThumbnailUrl\",\"VideoTitle\",\"Views\",\"Time of upload\"]\n",
    "    writer = csv.DictWriter(fw,fieldnames=headers)\n",
    "    writer.writeheader()\n",
    "    writer.writerows(reviews)"
   ]
  },
  {
   "cell_type": "code",
   "execution_count": 27,
   "id": "bfb654a2-9e08-4813-b325-3b7357ad0af9",
   "metadata": {},
   "outputs": [
    {
     "name": "stdout",
     "output_type": "stream",
     "text": [
      "['VideoLink', 'ThumbnailUrl', 'VideoTitle', 'Views', 'Time of upload']\n",
      "['https://www.youtube.com/watch?v=OQmnRugBlbU', 'https://i.ytimg.com/vi/OQmnRugBlbU/hqdefault.jpg?sqp=-oaymwEcCNACELwBSFXyq4qpAw4IARUAAIhCGAFwAcABBg==&rs=AOn4CLC5jMmcWzi2nyCe67arUNnsvKgyiw', '7 DAYS TO GO -- UDAAN Batch 2025 !!ðŸ”¥', '10K views', '15 hours ago']\n",
      "['https://www.youtube.com/watch?v=73KzWxffJJ8', 'https://i.ytimg.com/vi/73KzWxffJJ8/hqdefault.jpg?sqp=-oaymwEcCNACELwBSFXyq4qpAw4IARUAAIhCGAFwAcABBg==&rs=AOn4CLAJyszBADdl3fibHYRccBPbW5-cjw', 'THE GOAT OF PHYSICS - Class 11 JEE ðŸ”¥', '108K views', '2 days ago']\n",
      "['https://www.youtube.com/watch?v=xn8EYLeG6EQ', 'https://i.ytimg.com/vi/xn8EYLeG6EQ/hqdefault.jpg?sqp=-oaymwEcCNACELwBSFXyq4qpAw4IARUAAIhCGAFwAcABBg==&rs=AOn4CLB89kOMoLSuChTL96wB_94xshojjg', \"Who'll Teach you Mathematics in Class 11th? Arjuna JEE !! ðŸ”¥\", '116K views', '4 days ago']\n",
      "['https://www.youtube.com/watch?v=uTEn97aLf6U', 'Url not found', 'Commerce - The Game Changer Stream ðŸ”¥ðŸ”¥', '48K views', '4 days ago']\n"
     ]
    }
   ],
   "source": [
    "with open(\"Video_details.csv\",'r') as f:\n",
    "    read = csv.reader(f)\n",
    "    for i in read:\n",
    "        print(i)"
   ]
  },
  {
   "cell_type": "code",
   "execution_count": 29,
   "id": "c6708aa3-875b-45e6-a936-3e585f884ad5",
   "metadata": {},
   "outputs": [],
   "source": [
    "df = pd.read_csv(\"Video_details.csv\")"
   ]
  },
  {
   "cell_type": "code",
   "execution_count": 30,
   "id": "3c5840d7-96f1-4176-bed4-432fe5008144",
   "metadata": {},
   "outputs": [
    {
     "data": {
      "text/html": [
       "<div>\n",
       "<style scoped>\n",
       "    .dataframe tbody tr th:only-of-type {\n",
       "        vertical-align: middle;\n",
       "    }\n",
       "\n",
       "    .dataframe tbody tr th {\n",
       "        vertical-align: top;\n",
       "    }\n",
       "\n",
       "    .dataframe thead th {\n",
       "        text-align: right;\n",
       "    }\n",
       "</style>\n",
       "<table border=\"1\" class=\"dataframe\">\n",
       "  <thead>\n",
       "    <tr style=\"text-align: right;\">\n",
       "      <th></th>\n",
       "      <th>VideoLink</th>\n",
       "      <th>ThumbnailUrl</th>\n",
       "      <th>VideoTitle</th>\n",
       "      <th>Views</th>\n",
       "      <th>Time of upload</th>\n",
       "    </tr>\n",
       "  </thead>\n",
       "  <tbody>\n",
       "    <tr>\n",
       "      <th>0</th>\n",
       "      <td>https://www.youtube.com/watch?v=OQmnRugBlbU</td>\n",
       "      <td>https://i.ytimg.com/vi/OQmnRugBlbU/hqdefault.j...</td>\n",
       "      <td>7 DAYS TO GO -- UDAAN Batch 2025 !!🔥</td>\n",
       "      <td>10K views</td>\n",
       "      <td>15 hours ago</td>\n",
       "    </tr>\n",
       "    <tr>\n",
       "      <th>1</th>\n",
       "      <td>https://www.youtube.com/watch?v=73KzWxffJJ8</td>\n",
       "      <td>https://i.ytimg.com/vi/73KzWxffJJ8/hqdefault.j...</td>\n",
       "      <td>THE GOAT OF PHYSICS - Class 11 JEE 🔥</td>\n",
       "      <td>108K views</td>\n",
       "      <td>2 days ago</td>\n",
       "    </tr>\n",
       "    <tr>\n",
       "      <th>2</th>\n",
       "      <td>https://www.youtube.com/watch?v=xn8EYLeG6EQ</td>\n",
       "      <td>https://i.ytimg.com/vi/xn8EYLeG6EQ/hqdefault.j...</td>\n",
       "      <td>Who'll Teach you Mathematics in Class 11th? Ar...</td>\n",
       "      <td>116K views</td>\n",
       "      <td>4 days ago</td>\n",
       "    </tr>\n",
       "    <tr>\n",
       "      <th>3</th>\n",
       "      <td>https://www.youtube.com/watch?v=uTEn97aLf6U</td>\n",
       "      <td>Url not found</td>\n",
       "      <td>Commerce - The Game Changer Stream 🔥🔥</td>\n",
       "      <td>48K views</td>\n",
       "      <td>4 days ago</td>\n",
       "    </tr>\n",
       "  </tbody>\n",
       "</table>\n",
       "</div>"
      ],
      "text/plain": [
       "                                     VideoLink  \\\n",
       "0  https://www.youtube.com/watch?v=OQmnRugBlbU   \n",
       "1  https://www.youtube.com/watch?v=73KzWxffJJ8   \n",
       "2  https://www.youtube.com/watch?v=xn8EYLeG6EQ   \n",
       "3  https://www.youtube.com/watch?v=uTEn97aLf6U   \n",
       "\n",
       "                                        ThumbnailUrl  \\\n",
       "0  https://i.ytimg.com/vi/OQmnRugBlbU/hqdefault.j...   \n",
       "1  https://i.ytimg.com/vi/73KzWxffJJ8/hqdefault.j...   \n",
       "2  https://i.ytimg.com/vi/xn8EYLeG6EQ/hqdefault.j...   \n",
       "3                                      Url not found   \n",
       "\n",
       "                                          VideoTitle       Views  \\\n",
       "0               7 DAYS TO GO -- UDAAN Batch 2025 !!🔥   10K views   \n",
       "1               THE GOAT OF PHYSICS - Class 11 JEE 🔥  108K views   \n",
       "2  Who'll Teach you Mathematics in Class 11th? Ar...  116K views   \n",
       "3              Commerce - The Game Changer Stream 🔥🔥   48K views   \n",
       "\n",
       "  Time of upload  \n",
       "0   15 hours ago  \n",
       "1     2 days ago  \n",
       "2     4 days ago  \n",
       "3     4 days ago  "
      ]
     },
     "execution_count": 30,
     "metadata": {},
     "output_type": "execute_result"
    }
   ],
   "source": [
    "df"
   ]
  },
  {
   "cell_type": "code",
   "execution_count": null,
   "id": "7ca59596-c201-41e0-b4f2-fe3d294a95c9",
   "metadata": {},
   "outputs": [],
   "source": []
  }
 ],
 "metadata": {
  "kernelspec": {
   "display_name": "Python 3 (ipykernel)",
   "language": "python",
   "name": "python3"
  },
  "language_info": {
   "codemirror_mode": {
    "name": "ipython",
    "version": 3
   },
   "file_extension": ".py",
   "mimetype": "text/x-python",
   "name": "python",
   "nbconvert_exporter": "python",
   "pygments_lexer": "ipython3",
   "version": "3.11.5"
  }
 },
 "nbformat": 4,
 "nbformat_minor": 5
}
