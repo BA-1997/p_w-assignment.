{
 "cells": [
  {
   "cell_type": "markdown",
   "id": "45453ca4-e82a-4098-a260-a05f0c233383",
   "metadata": {},
   "source": [
    "Ques1. How do you comment code in Python? What are the different types of comments?"
   ]
  },
  {
   "cell_type": "code",
   "execution_count": 2,
   "id": "83d88dac-fce5-4420-8992-78bea841cfd9",
   "metadata": {},
   "outputs": [
    {
     "name": "stdout",
     "output_type": "stream",
     "text": [
      "Hello, World!\n",
      "Hello, World!\n",
      "Hello, World!\n"
     ]
    }
   ],
   "source": [
    "#This is a comment\n",
    "print(\"Hello, World!\")\n",
    "#This is a comment\n",
    "#written in\n",
    "#more than just one line\n",
    "print(\"Hello, World!\")\n",
    "\"\"\"\n",
    "This is a comment\n",
    "written in\n",
    "more than just one line\n",
    "\"\"\"\n",
    "print(\"Hello, World!\")"
   ]
  },
  {
   "cell_type": "markdown",
   "id": "6c23033e-cdbb-4e8a-b0c8-94c58e4be482",
   "metadata": {},
   "source": [
    "Ques2. What are variables in Python? How do you declare and assign values to variables?"
   ]
  },
  {
   "cell_type": "markdown",
   "id": "dabd439f-e45d-4610-a02d-b831c51d3197",
   "metadata": {},
   "source": [
    "Ans.(i)List"
   ]
  },
  {
   "cell_type": "code",
   "execution_count": 6,
   "id": "067ae6a3-922e-45c8-a57c-05315a65ec26",
   "metadata": {},
   "outputs": [],
   "source": [
    "l=[1,2,3,4,5,\"akshay\",25.5,8+6j,True]"
   ]
  },
  {
   "cell_type": "markdown",
   "id": "a5b372e4-56c1-4a86-a9eb-ad0e5afa6949",
   "metadata": {},
   "source": [
    "(ii) Tuple"
   ]
  },
  {
   "cell_type": "code",
   "execution_count": 5,
   "id": "113d203a-6ecd-4f7a-801e-a353b9c8084f",
   "metadata": {},
   "outputs": [],
   "source": [
    "t=(1,2,3,4,5,\"bhardwaj\",25.5,8+6j,True)"
   ]
  },
  {
   "cell_type": "code",
   "execution_count": 11,
   "id": "def4f180-c5a9-489c-81bf-0a04b4731432",
   "metadata": {},
   "outputs": [
    {
     "data": {
      "text/plain": [
       "tuple"
      ]
     },
     "execution_count": 11,
     "metadata": {},
     "output_type": "execute_result"
    }
   ],
   "source": [
    "type(t)"
   ]
  },
  {
   "cell_type": "markdown",
   "id": "f1cf73a6-597f-4d1a-93ed-d475307f6996",
   "metadata": {},
   "source": [
    "(iii) Set"
   ]
  },
  {
   "cell_type": "code",
   "execution_count": 12,
   "id": "b150a888-46cc-40fa-9451-e6c90cb110f7",
   "metadata": {},
   "outputs": [],
   "source": [
    "s={1,2,3,4,5,25.5,8+6j,True}"
   ]
  },
  {
   "cell_type": "code",
   "execution_count": 14,
   "id": "fbac87d1-38f8-45f6-a2a0-5429954c3dd1",
   "metadata": {},
   "outputs": [
    {
     "data": {
      "text/plain": [
       "set"
      ]
     },
     "execution_count": 14,
     "metadata": {},
     "output_type": "execute_result"
    }
   ],
   "source": [
    "type(s)"
   ]
  },
  {
   "cell_type": "markdown",
   "id": "188b135f-0d4a-42d9-93f3-82a8302b5d97",
   "metadata": {},
   "source": [
    "(iv)Dict."
   ]
  },
  {
   "cell_type": "code",
   "execution_count": 20,
   "id": "8310440d-4ed0-4e9d-8010-37ba0403f0e6",
   "metadata": {},
   "outputs": [],
   "source": [
    "d= {\"name\" :\"akshay\",\"num\" :[1,2,3,4,5],\"float\" :25.5,\"complex\" :8+6j,\"boolean\" :True}"
   ]
  },
  {
   "cell_type": "code",
   "execution_count": 21,
   "id": "8467262e-b3a0-4fe6-879d-ab0da4b81e13",
   "metadata": {},
   "outputs": [
    {
     "data": {
      "text/plain": [
       "dict"
      ]
     },
     "execution_count": 21,
     "metadata": {},
     "output_type": "execute_result"
    }
   ],
   "source": [
    "type(d)"
   ]
  },
  {
   "cell_type": "markdown",
   "id": "f0469a07-cc09-43b2-878b-c5bc02e765a1",
   "metadata": {},
   "source": [
    "and we can assign variable in different way"
   ]
  },
  {
   "cell_type": "code",
   "execution_count": 23,
   "id": "12d3a592-d1c5-4b89-8a1e-df6a24a97645",
   "metadata": {},
   "outputs": [],
   "source": [
    "name=\"akshay\"\n",
    "year=1997\n",
    "#And etc. "
   ]
  },
  {
   "cell_type": "markdown",
   "id": "7d521897-8517-4388-8dbf-a8d32ceb186f",
   "metadata": {},
   "source": [
    "Ques3. How do you convert one data type to another in Python?"
   ]
  },
  {
   "cell_type": "code",
   "execution_count": 29,
   "id": "8560f311-d1c2-4f31-8402-1303b5f65ea2",
   "metadata": {},
   "outputs": [
    {
     "data": {
      "text/plain": [
       "'5'"
      ]
     },
     "execution_count": 29,
     "metadata": {},
     "output_type": "execute_result"
    }
   ],
   "source": [
    "x=(5)\n",
    "str(x)"
   ]
  },
  {
   "cell_type": "markdown",
   "id": "690b5918-0db6-48b8-81cc-c07ebff6e1ef",
   "metadata": {},
   "source": [
    "Ques4. How do you write and execute a Python script from the command line?"
   ]
  },
  {
   "cell_type": "markdown",
   "id": "b2b9875c-7b87-44ef-8faf-1505aae79b26",
   "metadata": {},
   "source": [
    "Ans. my script.py"
   ]
  },
  {
   "cell_type": "markdown",
   "id": "b00cd3cb-f617-4c03-96f0-4b1996822072",
   "metadata": {},
   "source": [
    "Q5. Given a list my_list = [1, 2, 3, 4, 5], write the code to slice the list and obtain the sub-list [2, 3]."
   ]
  },
  {
   "cell_type": "code",
   "execution_count": 32,
   "id": "18412462-58e5-41a5-84f2-b90aa49593f9",
   "metadata": {},
   "outputs": [
    {
     "data": {
      "text/plain": [
       "[2, 3]"
      ]
     },
     "execution_count": 32,
     "metadata": {},
     "output_type": "execute_result"
    }
   ],
   "source": [
    "my_list=[1,2,3,4,5]\n",
    "my_list[1:3]"
   ]
  },
  {
   "cell_type": "markdown",
   "id": "df5b1e6d-783b-4e5b-b685-920c57285ba9",
   "metadata": {},
   "source": [
    "Q6. What is a complex number in mathematics, and how is it represented in Python?"
   ]
  },
  {
   "cell_type": "markdown",
   "id": "fe150646-487c-4d34-b96d-ce070ed4cb04",
   "metadata": {},
   "source": [
    "Ans.\n",
    "In mathematics: a+bi\n",
    "a is real part\n",
    "b is imaginary part\n",
    "i is imaginary unit"
   ]
  },
  {
   "cell_type": "code",
   "execution_count": 36,
   "id": "93fc3853-951a-4a50-a29f-ec688802ccc9",
   "metadata": {},
   "outputs": [],
   "source": [
    "#In python the complex number is represent this way\n",
    "c=8+6j"
   ]
  },
  {
   "cell_type": "code",
   "execution_count": 37,
   "id": "1ea0fca3-c348-4101-b856-5d5b2c9a1211",
   "metadata": {},
   "outputs": [
    {
     "data": {
      "text/plain": [
       "complex"
      ]
     },
     "execution_count": 37,
     "metadata": {},
     "output_type": "execute_result"
    }
   ],
   "source": [
    "type(c)"
   ]
  },
  {
   "cell_type": "markdown",
   "id": "4abdeb21-3ddb-4b01-bfc6-b428caf7fbad",
   "metadata": {},
   "source": [
    "Ques 7. What is the correct way to declare a variable named age and assign the value 25 to it?"
   ]
  },
  {
   "cell_type": "code",
   "execution_count": 38,
   "id": "66bf9013-d048-4bc3-afc2-04d9200ced19",
   "metadata": {},
   "outputs": [],
   "source": [
    "age= 25"
   ]
  },
  {
   "cell_type": "code",
   "execution_count": 39,
   "id": "22293520-da93-4f04-8ad4-32f843275751",
   "metadata": {},
   "outputs": [
    {
     "data": {
      "text/plain": [
       "25"
      ]
     },
     "execution_count": 39,
     "metadata": {},
     "output_type": "execute_result"
    }
   ],
   "source": [
    "age"
   ]
  },
  {
   "cell_type": "markdown",
   "id": "6e092e4c-c28f-4662-9a98-73e2c652af38",
   "metadata": {},
   "source": [
    "Ques 8. Declare a variable named price and assign the value 9.99 to it. What data type does this variable\n",
    "belong to?"
   ]
  },
  {
   "cell_type": "code",
   "execution_count": 40,
   "id": "78f25858-f3ac-4b32-836d-9a13a93282cc",
   "metadata": {},
   "outputs": [
    {
     "data": {
      "text/plain": [
       "float"
      ]
     },
     "execution_count": 40,
     "metadata": {},
     "output_type": "execute_result"
    }
   ],
   "source": [
    "price=9.99\n",
    "type(price)"
   ]
  },
  {
   "cell_type": "markdown",
   "id": "8c584557-ba5c-4c65-9ea5-472f7390896f",
   "metadata": {},
   "source": [
    "Ques 9. Create a variable named name and assign your full name to it as a string. How would you print the\n",
    "value of this variable?"
   ]
  },
  {
   "cell_type": "code",
   "execution_count": 43,
   "id": "483e7501-3999-47e1-9af4-3abbd626930a",
   "metadata": {},
   "outputs": [
    {
     "name": "stdout",
     "output_type": "stream",
     "text": [
      "Akshay Bhardwaj\n"
     ]
    }
   ],
   "source": [
    "name= \"Akshay Bhardwaj\"\n",
    "print(name)"
   ]
  },
  {
   "cell_type": "markdown",
   "id": "5e5f01bf-5c66-4d3f-a21a-a3956f1ad914",
   "metadata": {},
   "source": [
    "Ques 10. Given the string \"Hello, World!\", extract the substring \"World\"."
   ]
  },
  {
   "cell_type": "code",
   "execution_count": 46,
   "id": "0aeb4f58-796d-4051-9c89-01fb02b4885b",
   "metadata": {},
   "outputs": [
    {
     "data": {
      "text/plain": [
       "'World'"
      ]
     },
     "execution_count": 46,
     "metadata": {},
     "output_type": "execute_result"
    }
   ],
   "source": [
    "a= \"Hello World!\"\n",
    "a[6:11]"
   ]
  },
  {
   "cell_type": "markdown",
   "id": "5c911e2c-046f-443f-aa58-7c871147218b",
   "metadata": {},
   "source": [
    "Ques 11. Create a variable named \"is_student\" and assign it a boolean value indicating whether you are\n",
    "currently a student or not."
   ]
  },
  {
   "cell_type": "code",
   "execution_count": 50,
   "id": "6f608416-c365-4d00-adea-cc816ab47fbb",
   "metadata": {},
   "outputs": [
    {
     "name": "stdout",
     "output_type": "stream",
     "text": [
      "i am a student\n"
     ]
    }
   ],
   "source": [
    "is_student= True\n",
    "if is_student==True:\n",
    "    print(\"i am a student\")\n",
    "else:\n",
    "    print(\"i am not student\")\n"
   ]
  },
  {
   "cell_type": "code",
   "execution_count": null,
   "id": "6f912610-4a79-4322-94c0-4dad87716dda",
   "metadata": {},
   "outputs": [],
   "source": []
  }
 ],
 "metadata": {
  "kernelspec": {
   "display_name": "Python 3 (ipykernel)",
   "language": "python",
   "name": "python3"
  },
  "language_info": {
   "codemirror_mode": {
    "name": "ipython",
    "version": 3
   },
   "file_extension": ".py",
   "mimetype": "text/x-python",
   "name": "python",
   "nbconvert_exporter": "python",
   "pygments_lexer": "ipython3",
   "version": "3.11.4"
  }
 },
 "nbformat": 4,
 "nbformat_minor": 5
}
