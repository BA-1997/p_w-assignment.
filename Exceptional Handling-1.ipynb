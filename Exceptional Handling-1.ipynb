{
 "cells": [
  {
   "cell_type": "markdown",
   "id": "191b3f8c",
   "metadata": {},
   "source": [
    "## Ques.01 what is an exception in python? write the difference between exception and syntax error."
   ]
  },
  {
   "cell_type": "markdown",
   "id": "1eb56c3c",
   "metadata": {},
   "source": [
    "## Ans:\n",
    "In Python, an exception is an event that occurs during the execution of a program and disrupts the normal flow of instructions. When an exceptional situation arises, an exception is raised. Exceptions can occur for various reasons, such as attempting to divide by zero, trying to access an index that doesn't exist in a list, or opening a file that does not exist.\n",
    "\n",
    "DIFFERENCE BETWEEN EXCEPTION AND SYNTAX.\n",
    "\n",
    "Exception: Represents runtime errors that occur during the execution of the program.\n",
    "\n",
    "Syntax Error: Represents errors in the structure or syntax of the code and is detected during the parsing phase before execution.\n",
    "\n",
    "Exception: Detected during runtime when the program is executing.\n",
    "\n",
    "Syntax Error: Detected during the parsing phase before the program starts running.\n",
    "\n",
    "Exception: Can be handled using try, except, else, and finally blocks, allowing the program to respond to unexpected situations.\n",
    "\n",
    "Syntax Error: Must be fixed before the program can be executed; the interpreter won't run the code until syntax errors are corrected."
   ]
  },
  {
   "cell_type": "markdown",
   "id": "778fed17",
   "metadata": {},
   "source": [
    "## Ques:2 What happens when an exception is not handled? Explain  with an exmple.\n",
    "\n",
    "## Ans:\n",
    "When an exception is not handled in a Python program, it results in the program being terminated abruptly, and an error message, known as a traceback, is printed to the console. The traceback provides information about the exception type, the line of code where the exception occurred, and the sequence of calls that led to the exception.\n"
   ]
  },
  {
   "cell_type": "markdown",
   "id": "d50d416b",
   "metadata": {},
   "source": [
    "## Ques:3 Which Python statements are used to catch and handle exceptions? Explain withan example.\n",
    "\n",
    "## Ans: \n",
    "\n",
    "In Python, the try, except, else, and finally statements are used to catch and handle exceptions. These statements provide a way to gracefully handle errors during the execution of a program.\n",
    "\n",
    "Here is a breakdown of each part:\n",
    "\n",
    "try block: This is the block of code where you anticipate an exception might occur. If an exception occurs within this block, it is caught, and the corresponding except block is executed.\n",
    "\n",
    "except block: This block specifies what action to take if a particular exception is raised in the associated try block. You can have multiple except blocks to handle different types of exceptions.\n",
    "\n",
    "else block: This block contains code that is executed if no exceptions occur in the preceding try block.\n",
    "\n",
    "finally block: This block contains code that is always executed, regardless of whether an exception occurred or not. It is often used for cleanup operations."
   ]
  },
  {
   "cell_type": "code",
   "execution_count": 3,
   "id": "1593f5b3",
   "metadata": {},
   "outputs": [
    {
     "name": "stdout",
     "output_type": "stream",
     "text": [
      "Division successful.\n",
      "This will always be executed.\n",
      "Result 1: 5.0\n",
      "Error: Cannot divide by zero.\n",
      "This will always be executed.\n",
      "Result 2: None\n",
      "Error: Invalid types for division.\n",
      "This will always be executed.\n",
      "Result 3: None\n"
     ]
    }
   ],
   "source": [
    "def divide_numbers(a, b):\n",
    "    try:\n",
    "        result = a / b\n",
    "    except ZeroDivisionError:\n",
    "        # Handle the case where division by zero occurs\n",
    "        print(\"Error: Cannot divide by zero.\")\n",
    "        result = None\n",
    "    except TypeError:\n",
    "        # Handle the case where the types are incompatible for division\n",
    "        print(\"Error: Invalid types for division.\")\n",
    "        result = None\n",
    "    else:\n",
    "        # Code to be executed if no exception is raised\n",
    "        print(\"Division successful.\")\n",
    "    finally:\n",
    "        # Code to be executed regardless of whether an exception is raised or not\n",
    "        print(\"This will always be executed.\")\n",
    "\n",
    "    return result\n",
    "\n",
    "# Example usage\n",
    "result1 = divide_numbers(10, 2)\n",
    "print(\"Result 1:\", result1)\n",
    "\n",
    "result2 = divide_numbers(10, 0)\n",
    "print(\"Result 2:\", result2)\n",
    "\n",
    "result3 = divide_numbers(\"10\", 2)\n",
    "print(\"Result 3:\", result3)"
   ]
  },
  {
   "cell_type": "markdown",
   "id": "497bcfb6",
   "metadata": {},
   "source": [
    "## Explaination\n",
    "The try block attempts to perform a division operation.\n",
    "\n",
    "The first except block handles the ZeroDivisionError that may occur if the denominator is zero.\n",
    "\n",
    "The second except block handles a TypeError that might occur if the types are incompatible for division.\n",
    "\n",
    "The else block contains code to be executed if no exceptions occur in the try block.\n",
    "\n",
    "The finally block contains code to be executed regardless of whether an exception occurred or not.\n",
    "\n",
    "When you run this code, you'll see that the finally block is always executed, demonstrating its role in cleanup operations. The except blocks handle specific exceptions, providing customized error messages or actions for each case."
   ]
  },
  {
   "cell_type": "markdown",
   "id": "21db1313",
   "metadata": {},
   "source": [
    "## Ques:4 Explain with an example. Try and Else, Finally, Raise."
   ]
  },
  {
   "cell_type": "markdown",
   "id": "6022aa9b",
   "metadata": {},
   "source": [
    "## Ans:"
   ]
  },
  {
   "cell_type": "code",
   "execution_count": 1,
   "id": "da2881ac",
   "metadata": {},
   "outputs": [
    {
     "name": "stdout",
     "output_type": "stream",
     "text": [
      "Error: File not found at path 'example.txt'.\n",
      "Finally block: This will always be executed.\n"
     ]
    }
   ],
   "source": [
    "def process_file(file_path):\n",
    "    try:\n",
    "        # Attempt to open the file\n",
    "        with open(file_path, 'r') as file:\n",
    "            # Read the contents of the file\n",
    "            content = file.read()\n",
    "\n",
    "            # Perform some operation with the content (let's say converting it to uppercase)\n",
    "            processed_content = content.upper()\n",
    "\n",
    "    except FileNotFoundError:\n",
    "        # Handle the case where the file is not found\n",
    "        print(f\"Error: File not found at path '{file_path}'.\")\n",
    "    except Exception as e:\n",
    "        # Handle any other exceptions that might occur during file processing\n",
    "        print(f\"An error occurred: {e}\")\n",
    "    else:\n",
    "        # Code to be executed if no exception is raised\n",
    "        print(\"File processed successfully.\")\n",
    "        # Perform additional operations if needed with processed_content\n",
    "\n",
    "    finally:\n",
    "        # Code to be executed regardless of whether an exception is raised or not\n",
    "        print(\"Finally block: This will always be executed.\")\n",
    "\n",
    "# Example usage\n",
    "file_path = \"example.txt\"\n",
    "process_file(file_path)"
   ]
  },
  {
   "cell_type": "markdown",
   "id": "a7d7a6f0",
   "metadata": {},
   "source": [
    "## Explaination:\n",
    "The try block contains the code that may raise an exception. In this case, it attempts to open a file, read its contents, and process the content.\n",
    "\n",
    "The except block catches specific exceptions, such as FileNotFoundError or a more general Exception if any other unexpected error occurs during file processing.\n",
    "\n",
    "The else block contains code that is executed if no exception is raised within the try block.\n",
    "\n",
    "The finally block contains code that is always executed, regardless of whether an exception occurred or not. This block is often used for cleanup operations.\n",
    "\n",
    "The raise statement could be used within the except block to re-raise the caught exception or to raise a different exception after handling the initial one.\n",
    "\n",
    "This structure allows you to gracefully handle exceptions, execute additional code if no exceptions occurred, and ensure that certain cleanup operations are performed, regardless of the outcome."
   ]
  },
  {
   "cell_type": "markdown",
   "id": "7633ecfe",
   "metadata": {},
   "source": [
    "## Ques 5: What are Custom Exceptions in python? Why do we need Custom Exceptions? Explain with in an example."
   ]
  },
  {
   "cell_type": "markdown",
   "id": "36dede9c",
   "metadata": {},
   "source": [
    "## Ans: \n",
    "In Python, custom exceptions are user-defined exception classes that you create to handle specific error conditions in your code. While Python comes with a variety of built-in exceptions, there are cases where you might encounter specific errors that aren't adequately covered by the standard exceptions. Custom exceptions allow you to define your own exception hierarchy tailored to your application's needs.\n",
    "## Why do we need Custom Exceptions? \n",
    "Application-Specific Errors,Readability and Maintainability,Hierarchy and Organization."
   ]
  },
  {
   "cell_type": "code",
   "execution_count": 2,
   "id": "ad73d849",
   "metadata": {},
   "outputs": [
    {
     "name": "stdout",
     "output_type": "stream",
     "text": [
      "InputError: Input value must be non-negative.\n"
     ]
    }
   ],
   "source": [
    "class CustomError(Exception):\n",
    "    \"\"\"Base class for custom exceptions.\"\"\"\n",
    "    pass\n",
    "\n",
    "class InputError(CustomError):\n",
    "    \"\"\"Exception for invalid input.\"\"\"\n",
    "    pass\n",
    "\n",
    "class CalculationError(CustomError):\n",
    "    \"\"\"Exception for errors during calculations.\"\"\"\n",
    "    pass\n",
    "\n",
    "def perform_calculation(value):\n",
    "    try:\n",
    "        if value < 0:\n",
    "            raise InputError(\"Input value must be non-negative.\")\n",
    "        \n",
    "        result = 10 / value\n",
    "\n",
    "        if result > 100:\n",
    "            raise CalculationError(\"Result exceeds acceptable limit.\")\n",
    "        \n",
    "        return result\n",
    "\n",
    "    except InputError as ie:\n",
    "        print(f\"InputError: {ie}\")\n",
    "    except CalculationError as ce:\n",
    "        print(f\"CalculationError: {ce}\")\n",
    "    except ZeroDivisionError:\n",
    "        print(\"Error: Cannot divide by zero.\")\n",
    "    except Exception as e:\n",
    "        print(f\"An unexpected error occurred: {e}\")\n",
    "\n",
    "# Example usage\n",
    "try:\n",
    "    result = perform_calculation(-5)\n",
    "except CustomError as ce:\n",
    "    print(f\"Caught custom error: {ce}\")"
   ]
  },
  {
   "cell_type": "markdown",
   "id": "9c259eb7",
   "metadata": {},
   "source": [
    "## Explaination\n",
    "CustomError is the base class for custom exceptions.\n",
    "\n",
    "InputError and CalculationError are specific exceptions that inherit from CustomError.\n",
    "\n",
    "The perform_calculation function raises these custom exceptions based on specific conditions.\n",
    "\n",
    "In the example usage, we catch instances of CustomError to handle both InputError and CalculationError more generally.\n",
    "\n",
    "Custom exceptions provide a way to communicate and handle errors in a manner that aligns with the logic and requirements of your specific application or module. They contribute to better code organization, readability, and maintenance."
   ]
  },
  {
   "cell_type": "markdown",
   "id": "352c2d7b",
   "metadata": {},
   "source": [
    "## Ques:6 Create custom exception class. Use this class to handle an exception."
   ]
  },
  {
   "cell_type": "markdown",
   "id": "63e1ccde",
   "metadata": {},
   "source": [
    "## Ans:"
   ]
  },
  {
   "cell_type": "code",
   "execution_count": 4,
   "id": "5b23aae1",
   "metadata": {},
   "outputs": [
    {
     "name": "stdout",
     "output_type": "stream",
     "text": [
      "CustomError: Input value must be non-negative.\n"
     ]
    }
   ],
   "source": [
    "class CustomError(Exception):\n",
    "    \"\"\"Custom exception class.\"\"\"\n",
    "    def __init__(self, message=\"A custom error occurred.\"):\n",
    "        self.message = message\n",
    "        super().__init__(self.message)\n",
    "\n",
    "def example_function(value):\n",
    "    try:\n",
    "        if value < 0:\n",
    "            raise CustomError(\"Input value must be non-negative.\")\n",
    "        \n",
    "        result = 10 / value\n",
    "\n",
    "        if result > 100:\n",
    "            raise CustomError(\"Result exceeds acceptable limit.\")\n",
    "        \n",
    "        return result\n",
    "\n",
    "    except CustomError as ce:\n",
    "        # Handle the custom exception\n",
    "        print(f\"CustomError: {ce}\")\n",
    "    except ZeroDivisionError:\n",
    "        print(\"Error: Cannot divide by zero.\")\n",
    "    except Exception as e:\n",
    "        print(f\"An unexpected error occurred: {e}\")\n",
    "\n",
    "# Example usage\n",
    "try:\n",
    "    result = example_function(-5)\n",
    "except CustomError as ce:\n",
    "    print(f\"Caught custom error: {ce}\")"
   ]
  },
  {
   "cell_type": "code",
   "execution_count": null,
   "id": "ec5e9485",
   "metadata": {},
   "outputs": [],
   "source": []
  }
 ],
 "metadata": {
  "kernelspec": {
   "display_name": "Python 3 (ipykernel)",
   "language": "python",
   "name": "python3"
  },
  "language_info": {
   "codemirror_mode": {
    "name": "ipython",
    "version": 3
   },
   "file_extension": ".py",
   "mimetype": "text/x-python",
   "name": "python",
   "nbconvert_exporter": "python",
   "pygments_lexer": "ipython3",
   "version": "3.11.5"
  }
 },
 "nbformat": 4,
 "nbformat_minor": 5
}
