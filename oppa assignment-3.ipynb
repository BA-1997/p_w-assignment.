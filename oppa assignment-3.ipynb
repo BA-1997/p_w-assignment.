{
 "cells": [
  {
   "cell_type": "markdown",
   "id": "7b5cff59-bc04-46da-aa8d-254004a96914",
   "metadata": {},
   "source": [
    "Ques 1. What is Abstraction in OOps? Explain with an example."
   ]
  },
  {
   "cell_type": "markdown",
   "id": "3a5bc419-f633-4132-ba04-2129c36b6ea2",
   "metadata": {},
   "source": [
    "Ans: To create  the skelton or blueprint of class."
   ]
  },
  {
   "cell_type": "code",
   "execution_count": 29,
   "id": "24c350d3-16f6-4766-9a54-4f17e2bf3c95",
   "metadata": {},
   "outputs": [],
   "source": [
    "import abc\n",
    "class bank_account:\n",
    "    @abc.abstractmethod\n",
    "    def account_holder_name(self):\n",
    "        pass\n",
    "    @abc.abstractmethod\n",
    "    def account_num(self):\n",
    "        pass\n",
    "    @abc.abstractmethod\n",
    "    def ifsc_num(self):\n",
    "        pass"
   ]
  },
  {
   "cell_type": "code",
   "execution_count": 30,
   "id": "3c3977d8-288c-4554-9f50-481450340962",
   "metadata": {},
   "outputs": [],
   "source": [
    "class account_details(bank_account):\n",
    "    def account_holder_name(self):\n",
    "        return \"akshay bhardwaj\"\n",
    "    def account_num(self):\n",
    "        return 1234567892546\n",
    "    def ifsc_num(self):\n",
    "        return \"SBIN0003559\""
   ]
  },
  {
   "cell_type": "code",
   "execution_count": 31,
   "id": "c506a14e-2732-47bb-aa0b-c8fa1d6b77ae",
   "metadata": {},
   "outputs": [],
   "source": [
    "acc_detail=account_details()"
   ]
  },
  {
   "cell_type": "code",
   "execution_count": 33,
   "id": "cb744411-b016-45ba-a77c-6b9c035637f1",
   "metadata": {},
   "outputs": [
    {
     "data": {
      "text/plain": [
       "'akshay bhardwaj'"
      ]
     },
     "execution_count": 33,
     "metadata": {},
     "output_type": "execute_result"
    }
   ],
   "source": [
    "acc_detail.account_holder_name()"
   ]
  },
  {
   "cell_type": "markdown",
   "id": "98af7ce2-2fda-42f7-8684-12d5cc5c43d3",
   "metadata": {},
   "source": [
    "Ques 2. Differentiate between Abstraction and Encapsulation. Explain with an example."
   ]
  },
  {
   "cell_type": "markdown",
   "id": "5e70514d-90c0-41e7-9d82-ba303ddf2ddf",
   "metadata": {},
   "source": [
    "Ans: abstraction: To create the skelton or blueprint of class.\n",
    "encapsulation: To prevent or hidden   the value  from user is called encapsulation."
   ]
  },
  {
   "cell_type": "code",
   "execution_count": 34,
   "id": "fba93179-e44b-4f32-9274-b64ee536f471",
   "metadata": {},
   "outputs": [],
   "source": [
    "class BankAccount:\n",
    "    def __init__(self, account_number, balance):\n",
    "        self.account_number = account_number\n",
    "        self.balance = balance\n",
    "    \n",
    "    def deposit(self, amount):\n",
    "        self.balance += amount\n",
    "    \n",
    "    def withdraw(self, amount):\n",
    "        if amount <= self.balance:\n",
    "            self.balance -= amount\n",
    "        else:\n",
    "            print(\"Insufficient funds\")\n",
    "    \n",
    "    def get_balance(self):\n",
    "        return self.balance\n",
    "class AbstractBankAccount:\n",
    "    def deposit(self, amount):\n",
    "        pass\n",
    "    \n",
    "    def withdraw(self, amount):\n",
    "        pass\n",
    "    \n",
    "    def get_balance(self):\n",
    "        pass\n",
    "class EncapsulatedBankAccount:\n",
    "    def __init__(self, account_number, initial_balance):\n",
    "        self.__account_number = account_number\n",
    "        self.__balance = initial_balance\n",
    "    \n",
    "    def deposit(self, amount):\n",
    "        self.__balance += amount\n",
    "    \n",
    "    def withdraw(self, amount):\n",
    "        if amount <= self.__balance:\n",
    "            self.__balance -= amount\n",
    "        else:\n",
    "            print(\"Insufficient funds\")\n",
    "    \n",
    "    def get_balance(self):\n",
    "        return self.__balance\n"
   ]
  },
  {
   "cell_type": "markdown",
   "id": "91caa5f9-d21a-47ea-99a1-db6210109407",
   "metadata": {},
   "source": [
    "Ques 3. What is abc module in python? Why is it used?"
   ]
  },
  {
   "cell_type": "markdown",
   "id": "59810b17-92bd-4377-ba7c-797f46d976d5",
   "metadata": {},
   "source": [
    "Ans: To create  the skelton or blueprint of class."
   ]
  },
  {
   "cell_type": "markdown",
   "id": "8cb6be41-6e7b-4c53-899b-6c02e49a497f",
   "metadata": {},
   "source": [
    "Ques 4. How can we achieve data abstraction?\n"
   ]
  },
  {
   "cell_type": "markdown",
   "id": "d0115574-239a-4ebd-a4b7-7bb2322c5f5d",
   "metadata": {},
   "source": [
    "\n",
    "Ans: Data abstraction is achieved in object-oriented programming (OOP) by defining classes that represent abstract concepts and providing a simplified interface for interacting with data, while hiding the underlying implementation details.\n",
    "some way we are achiving the data :\n",
    "by, Define Abstract Classes or Interfaces or leave Implementations to Subclasses,Hide Implementation Details and many more."
   ]
  },
  {
   "cell_type": "markdown",
   "id": "b35188fa-08bc-4753-ac2d-062c2466202d",
   "metadata": {},
   "source": [
    "Ques 5. Can we create an instance of an abstract class? Explain your answer."
   ]
  },
  {
   "cell_type": "markdown",
   "id": "2104ffb9-edc9-4579-8ae3-8fd54bcfd7ab",
   "metadata": {},
   "source": [
    "No, you cannot create an instance of an abstract class in most object-oriented programming languages. Abstract classes are designed to be incomplete, meaning they contain one or more abstract methods that lack implementation. As a result, they are meant to be subclassed, and instances of abstract classes are not intended to be created directly.\n",
    "\n",
    "An abstract class serves as a blueprint for concrete subclasses to inherit from, providing a common interface and potentially some default behavior that subclasses can extend or override. When you create an instance of a concrete subclass, you're actually creating an instance of the derived class while inheriting the structure and behavior defined in the abstract class.\n",
    "\n",
    "Here's why you cannot create an instance of an abstract class:\n",
    "\n",
    "Unimplemented Methods: Abstract classes often contain one or more abstract methods, which are methods without implementations. Attempting to create an instance of an abstract class would mean trying to instantiate an object with incomplete behavior, which isn't meaningful or functional.\n",
    "\n",
    "Interface Definition: Abstract classes serve as a contract that defines the interface and some common behavior that concrete subclasses must adhere to. However, they lack complete behavior, making them inappropriate for direct instantiation.\n",
    "\n"
   ]
  },
  {
   "cell_type": "code",
   "execution_count": null,
   "id": "c4b7a735-1d8d-452b-9bea-99422fdb6068",
   "metadata": {},
   "outputs": [],
   "source": []
  }
 ],
 "metadata": {
  "kernelspec": {
   "display_name": "Python 3 (ipykernel)",
   "language": "python",
   "name": "python3"
  },
  "language_info": {
   "codemirror_mode": {
    "name": "ipython",
    "version": 3
   },
   "file_extension": ".py",
   "mimetype": "text/x-python",
   "name": "python",
   "nbconvert_exporter": "python",
   "pygments_lexer": "ipython3",
   "version": "3.11.4"
  }
 },
 "nbformat": 4,
 "nbformat_minor": 5
}
