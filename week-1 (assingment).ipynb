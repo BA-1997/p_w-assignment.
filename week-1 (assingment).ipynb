{
 "cells": [
  {
   "cell_type": "markdown",
   "id": "c4c31322-7223-47aa-b957-2b615227ab8a",
   "metadata": {},
   "source": [
    "Q.1 CREATE ONE VARIABLE CONTAINING FOLLOWING TYPE OF DATATYPE.\n"
   ]
  },
  {
   "cell_type": "markdown",
   "id": "4b81250a-693e-4cfa-8f40-71ada6982b26",
   "metadata": {},
   "source": [
    "1.String"
   ]
  },
  {
   "cell_type": "code",
   "execution_count": 1,
   "id": "989fc817-f2a1-431d-ac90-748e6ceb4c5b",
   "metadata": {},
   "outputs": [],
   "source": [
    "a = \"AKSHAY BHARDWAJ\""
   ]
  },
  {
   "cell_type": "code",
   "execution_count": 2,
   "id": "4a34ff61-1796-4744-9954-06abb65ed422",
   "metadata": {},
   "outputs": [
    {
     "data": {
      "text/plain": [
       "str"
      ]
     },
     "execution_count": 2,
     "metadata": {},
     "output_type": "execute_result"
    }
   ],
   "source": [
    "type(a)"
   ]
  },
  {
   "cell_type": "markdown",
   "id": "e4a64164-1381-4862-ad39-f77008452e96",
   "metadata": {},
   "source": [
    "2.List"
   ]
  },
  {
   "cell_type": "code",
   "execution_count": 3,
   "id": "c32e1457-9a35-47c3-91d9-7419224d7aee",
   "metadata": {},
   "outputs": [],
   "source": [
    "l = [1,2,3,4,5,\"akshay\",45.5,7+2j]"
   ]
  },
  {
   "cell_type": "code",
   "execution_count": 4,
   "id": "b6094720-8e97-4a9d-b2f8-b772cc4d723b",
   "metadata": {},
   "outputs": [
    {
     "data": {
      "text/plain": [
       "list"
      ]
     },
     "execution_count": 4,
     "metadata": {},
     "output_type": "execute_result"
    }
   ],
   "source": [
    "type(l)"
   ]
  },
  {
   "cell_type": "markdown",
   "id": "d5892631-39d7-43f3-97cd-252efe347aff",
   "metadata": {},
   "source": [
    "3. Float"
   ]
  },
  {
   "cell_type": "code",
   "execution_count": 5,
   "id": "f0e22f9c-ab38-42b5-a82d-f07130b30102",
   "metadata": {},
   "outputs": [],
   "source": [
    "b = 70.5"
   ]
  },
  {
   "cell_type": "code",
   "execution_count": 6,
   "id": "58e26933-0b13-40ad-abdc-8ff9da5b9dcf",
   "metadata": {},
   "outputs": [
    {
     "data": {
      "text/plain": [
       "float"
      ]
     },
     "execution_count": 6,
     "metadata": {},
     "output_type": "execute_result"
    }
   ],
   "source": [
    "type(b)"
   ]
  },
  {
   "cell_type": "markdown",
   "id": "ccbf9ddd-2f67-48ef-a1c4-7fe6445405e0",
   "metadata": {},
   "source": [
    "4. Tuple"
   ]
  },
  {
   "cell_type": "code",
   "execution_count": 7,
   "id": "54e2d3f9-7bef-4198-a555-aacc7564655a",
   "metadata": {},
   "outputs": [],
   "source": [
    "t = (1,2,3,4,5)"
   ]
  },
  {
   "cell_type": "code",
   "execution_count": 8,
   "id": "8c9f9a9d-8fbc-4075-9362-b8db25d98a24",
   "metadata": {},
   "outputs": [
    {
     "data": {
      "text/plain": [
       "tuple"
      ]
     },
     "execution_count": 8,
     "metadata": {},
     "output_type": "execute_result"
    }
   ],
   "source": [
    "type(t)"
   ]
  },
  {
   "cell_type": "markdown",
   "id": "3056ec6f-9c65-425e-965e-1e36441fd4a4",
   "metadata": {},
   "source": [
    "Ques.2  Given are some following variables containing data:\n",
    "        What will be the data type of the above given variable."
   ]
  },
  {
   "cell_type": "markdown",
   "id": "d83f9db4-635a-412d-9d40-0489e16dfb6e",
   "metadata": {},
   "source": [
    "1. var=''"
   ]
  },
  {
   "cell_type": "code",
   "execution_count": 9,
   "id": "4f155775-0cfd-4ada-b0bb-536a5defa26d",
   "metadata": {},
   "outputs": [],
   "source": [
    "var = ' '"
   ]
  },
  {
   "cell_type": "code",
   "execution_count": 10,
   "id": "ff26bf87-848e-49ee-919d-67bf7623bb90",
   "metadata": {},
   "outputs": [
    {
     "data": {
      "text/plain": [
       "str"
      ]
     },
     "execution_count": 10,
     "metadata": {},
     "output_type": "execute_result"
    }
   ],
   "source": [
    "type(var)"
   ]
  },
  {
   "cell_type": "markdown",
   "id": "1030c501-05da-42dd-893c-e9559c959885",
   "metadata": {},
   "source": [
    "(ii) var2 = ‘[ DS , ML , Python]’"
   ]
  },
  {
   "cell_type": "code",
   "execution_count": 11,
   "id": "001bb806-e7a2-4738-b539-96599dde8201",
   "metadata": {},
   "outputs": [
    {
     "ename": "SyntaxError",
     "evalue": "invalid character '‘' (U+2018) (1625700492.py, line 1)",
     "output_type": "error",
     "traceback": [
      "\u001b[1;36m  Cell \u001b[1;32mIn[11], line 1\u001b[1;36m\u001b[0m\n\u001b[1;33m    var2 = ‘[ DS , ML , Python]’\u001b[0m\n\u001b[1;37m           ^\u001b[0m\n\u001b[1;31mSyntaxError\u001b[0m\u001b[1;31m:\u001b[0m invalid character '‘' (U+2018)\n"
     ]
    }
   ],
   "source": [
    " var2 = ‘[ DS , ML , Python]’"
   ]
  },
  {
   "cell_type": "markdown",
   "id": "55bee58c-6716-4a8d-ba5f-a15301030c2c",
   "metadata": {},
   "source": [
    "(iii) var3 = [ ‘DS’ , ’ML’ , ‘Python’ ]"
   ]
  },
  {
   "cell_type": "code",
   "execution_count": 12,
   "id": "2bf30f95-7dfd-4e82-ba57-d777e72ee5c8",
   "metadata": {},
   "outputs": [
    {
     "ename": "SyntaxError",
     "evalue": "invalid character '‘' (U+2018) (3912615029.py, line 1)",
     "output_type": "error",
     "traceback": [
      "\u001b[1;36m  Cell \u001b[1;32mIn[12], line 1\u001b[1;36m\u001b[0m\n\u001b[1;33m    var3 = [ ‘DS’ , ’ML’ , ‘Python’ ]\u001b[0m\n\u001b[1;37m             ^\u001b[0m\n\u001b[1;31mSyntaxError\u001b[0m\u001b[1;31m:\u001b[0m invalid character '‘' (U+2018)\n"
     ]
    }
   ],
   "source": [
    " var3 = [ ‘DS’ , ’ML’ , ‘Python’ ]"
   ]
  },
  {
   "cell_type": "markdown",
   "id": "fa3f693d-50da-426f-ab9f-06ede7bb2800",
   "metadata": {},
   "source": [
    "(iv) var4 = 1."
   ]
  },
  {
   "cell_type": "code",
   "execution_count": 13,
   "id": "e6f3a5af-beb3-4dc3-8a60-ff3c2952b2de",
   "metadata": {},
   "outputs": [],
   "source": [
    " var4 = 1."
   ]
  },
  {
   "cell_type": "code",
   "execution_count": 14,
   "id": "2b401077-ac67-4c6d-b3ae-499e3460db6e",
   "metadata": {},
   "outputs": [
    {
     "data": {
      "text/plain": [
       "float"
      ]
     },
     "execution_count": 14,
     "metadata": {},
     "output_type": "execute_result"
    }
   ],
   "source": [
    "type(var4)"
   ]
  },
  {
   "cell_type": "markdown",
   "id": "6ce741c9-5887-43b0-bb1b-f8b025e075ac",
   "metadata": {},
   "source": [
    "QUES 3. Explain the use of the following operators using an example:"
   ]
  },
  {
   "cell_type": "markdown",
   "id": "02627147-807f-43eb-b4eb-04276b48bdcd",
   "metadata": {},
   "source": [
    "(i) /\n",
    "ans- It is a divisible operator"
   ]
  },
  {
   "cell_type": "code",
   "execution_count": 15,
   "id": "62dea0f4-33ad-471c-88df-c34e2fe7a611",
   "metadata": {},
   "outputs": [
    {
     "data": {
      "text/plain": [
       "2.0"
      ]
     },
     "execution_count": 15,
     "metadata": {},
     "output_type": "execute_result"
    }
   ],
   "source": [
    "4/2"
   ]
  },
  {
   "cell_type": "markdown",
   "id": "a3bbc7f2-e52a-4b8a-9a51-aae5bb60387c",
   "metadata": {},
   "source": [
    "(ii) % \n",
    "Ans- it is a modulus operator."
   ]
  },
  {
   "cell_type": "code",
   "execution_count": 20,
   "id": "3c7222b0-6496-48de-b778-11864c736b3c",
   "metadata": {},
   "outputs": [
    {
     "data": {
      "text/plain": [
       "1"
      ]
     },
     "execution_count": 20,
     "metadata": {},
     "output_type": "execute_result"
    }
   ],
   "source": [
    "10%3"
   ]
  },
  {
   "cell_type": "markdown",
   "id": "ac923c7b-d49e-4fae-aa7e-04e0a6fd9b52",
   "metadata": {},
   "source": [
    "(iii) //\n",
    "Ans-it is a division floor operator"
   ]
  },
  {
   "cell_type": "code",
   "execution_count": 18,
   "id": "a594a1a0-acc5-4c07-8d95-e096386202fc",
   "metadata": {},
   "outputs": [
    {
     "data": {
      "text/plain": [
       "2"
      ]
     },
     "execution_count": 18,
     "metadata": {},
     "output_type": "execute_result"
    }
   ],
   "source": [
    "10//5"
   ]
  },
  {
   "cell_type": "markdown",
   "id": "6642a11b-e42a-436b-bc85-2ec69e56eace",
   "metadata": {},
   "source": [
    "(iv) **\n",
    "ans- it is a power operator"
   ]
  },
  {
   "cell_type": "code",
   "execution_count": 21,
   "id": "e365c993-f6a7-408b-a8a3-9ce658c7a557",
   "metadata": {},
   "outputs": [
    {
     "data": {
      "text/plain": [
       "100"
      ]
     },
     "execution_count": 21,
     "metadata": {},
     "output_type": "execute_result"
    }
   ],
   "source": [
    "10**2"
   ]
  },
  {
   "cell_type": "markdown",
   "id": "eb8d7fb6-82a2-4508-8386-c3546520ecf2",
   "metadata": {},
   "source": [
    "Ques4. Create a list of length 10 of your choice containing multiple types of data. Using for loop print the\n",
    "element and its data type."
   ]
  },
  {
   "cell_type": "code",
   "execution_count": 51,
   "id": "a542af12-62ac-4fa8-a5f1-6cf52fe9a441",
   "metadata": {},
   "outputs": [
    {
     "name": "stdout",
     "output_type": "stream",
     "text": [
      "<class 'int'>\n",
      "<class 'int'>\n",
      "this code is  valid\n",
      "<class 'int'>\n",
      "this code is  valid\n",
      "<class 'int'>\n",
      "this code is  valid\n",
      "<class 'int'>\n",
      "this code is  valid\n",
      "<class 'str'>\n",
      "this code is  valid\n",
      "<class 'str'>\n",
      "this code is  valid\n",
      "<class 'complex'>\n",
      "this code is  valid\n",
      "<class 'float'>\n",
      "this code is  valid\n",
      "<class 'bool'>\n",
      "<class 'int'>\n",
      "this code is  valid\n"
     ]
    }
   ],
   "source": [
    "AB = [1,2,3,4,5,\"aksahy\",\"bhardwaj\",5+2j,45.5,True,7]\n",
    "for i in AB:\n",
    "    print(type(i))\n",
    "    if i==True:\n",
    "        continue\n",
    "        print(i)\n",
    "    else:\n",
    "        print(\"this code is  valid\")"
   ]
  },
  {
   "cell_type": "markdown",
   "id": "24564838-9935-41e1-ad49-eb7647498f88",
   "metadata": {},
   "source": [
    "Ques5. Using a while loop, verify if the number A is purely divisible by number B and if so then how many \n",
    "times it can be divisible."
   ]
  },
  {
   "cell_type": "code",
   "execution_count": 57,
   "id": "3f00a313-7f3d-44a0-905a-5e65d2f68a17",
   "metadata": {},
   "outputs": [
    {
     "name": "stdin",
     "output_type": "stream",
     "text": [
      "Enter the dividend (A):  10\n",
      "Enter the divisor (B):  5\n"
     ]
    },
    {
     "name": "stdout",
     "output_type": "stream",
     "text": [
      "2 is divisible by 5 a total of 1 times.\n"
     ]
    }
   ],
   "source": [
    "A = int(input(\"Enter the dividend (A): \"))\n",
    "B = int(input(\"Enter the divisor (B): \"))\n",
    "\n",
    "count = 0\n",
    "\n",
    "while A >= B and A % B == 0:\n",
    "    A = A // B\n",
    "    count += 1\n",
    "\n",
    "if count > 0:\n",
    "    print(f\"{A} is divisible by {B} a total of {count} times.\")\n",
    "else:\n",
    "    print(f\"{A} is not divisible by {B}.\")"
   ]
  },
  {
   "cell_type": "markdown",
   "id": "197b742d-7178-47d6-90c9-611289ca9f1d",
   "metadata": {},
   "source": [
    "Ques6. Create a list containing 25 int type data. Using for loop and if-else condition print if the element is \n",
    "divisible by 3 or not"
   ]
  },
  {
   "cell_type": "code",
   "execution_count": 60,
   "id": "28ce4430-b70e-46b7-9d70-79e6033f345a",
   "metadata": {},
   "outputs": [],
   "source": [
    "l1=[10,12,15,18,20,45,89,42,47,50,62,48,25,40,35,55,17,85,36,90,80,60,150,117,115]"
   ]
  },
  {
   "cell_type": "code",
   "execution_count": 71,
   "id": "d861d4eb-7f0f-482c-a57b-8c183bf96a2e",
   "metadata": {},
   "outputs": [
    {
     "name": "stdout",
     "output_type": "stream",
     "text": [
      "remaining code is not divisible by 3\n",
      "12\n",
      "15\n",
      "18\n",
      "remaining code is not divisible by 3\n",
      "45\n",
      "remaining code is not divisible by 3\n",
      "42\n",
      "remaining code is not divisible by 3\n",
      "remaining code is not divisible by 3\n",
      "remaining code is not divisible by 3\n",
      "48\n",
      "remaining code is not divisible by 3\n",
      "remaining code is not divisible by 3\n",
      "remaining code is not divisible by 3\n",
      "remaining code is not divisible by 3\n",
      "remaining code is not divisible by 3\n",
      "remaining code is not divisible by 3\n",
      "36\n",
      "90\n",
      "remaining code is not divisible by 3\n",
      "60\n",
      "150\n",
      "117\n",
      "remaining code is not divisible by 3\n"
     ]
    }
   ],
   "source": [
    "for i in l1:\n",
    "    if i%3==0:\n",
    "        print(i)\n",
    "    else:\n",
    "        print(\"remaining code is not divisible by 3\")\n",
    "        "
   ]
  },
  {
   "cell_type": "markdown",
   "id": "a1444c2c-0003-4acc-adc2-cb61482d702a",
   "metadata": {},
   "source": [
    "Q7. What do you understand about mutable and immutable data types? Give examples for both showing \n",
    "this property."
   ]
  },
  {
   "cell_type": "markdown",
   "id": "54d149de-99f4-4240-9741-76df9697c3f7",
   "metadata": {},
   "source": [
    "Imutable-it cannot replace the at its perticular place is called mutable.\n",
    "example: string type variable.\n",
    "Mutable- it can replace the value that present in variable.\n",
    "    example- list type varible.\n"
   ]
  },
  {
   "cell_type": "code",
   "execution_count": null,
   "id": "549f8894-94d7-44d4-a8c9-88a14e738379",
   "metadata": {},
   "outputs": [],
   "source": []
  }
 ],
 "metadata": {
  "kernelspec": {
   "display_name": "Python 3 (ipykernel)",
   "language": "python",
   "name": "python3"
  },
  "language_info": {
   "codemirror_mode": {
    "name": "ipython",
    "version": 3
   },
   "file_extension": ".py",
   "mimetype": "text/x-python",
   "name": "python",
   "nbconvert_exporter": "python",
   "pygments_lexer": "ipython3",
   "version": "3.11.4"
  }
 },
 "nbformat": 4,
 "nbformat_minor": 5
}
