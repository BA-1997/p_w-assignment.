{
 "cells": [
  {
   "cell_type": "markdown",
   "id": "a9363d6c-2ee2-4820-b347-ef068d7bb711",
   "metadata": {},
   "source": [
    "Ques 1. Explain Class and Object with respect to Object-Oriented Programming. Give a suitable example."
   ]
  },
  {
   "cell_type": "markdown",
   "id": "93513c71-b926-4f4c-a553-bd7bd6cb526c",
   "metadata": {},
   "source": [
    "Class:\n",
    "A class is a blueprint or template for creating objects. It defines the structure and behavior that objects of that class will have.\n",
    "It encapsulates both data (attributes or properties) and methods (functions) that operate on that data.\n",
    "Think of a class as a blueprint for creating instances (objects) that share common attributes and behaviors.\n",
    "\n",
    "Object:\n",
    "An object is an instance of a class. It's a concrete representation of the data and behavior defined by the class.\n",
    "Each object created from a class can have its own unique data values for the attributes defined by the class.\n",
    "Objects can perform actions (methods) that are defined within the class, allowing them to interact with their own data and the data of other objects.\n"
   ]
  },
  {
   "cell_type": "code",
   "execution_count": 15,
   "id": "641d5a98-ba32-42d1-9c67-e618632f3150",
   "metadata": {},
   "outputs": [],
   "source": [
    "class my_info:\n",
    "    def __init__(self,my_name,age,gender):\n",
    "        self.my_name=my_name\n",
    "        self.age=age\n",
    "        self.gender=gender\n",
    "    def characer(self):\n",
    "        print(self.my_name,self.age,self.gender,\"is a good boy\")\n",
    "    "
   ]
  },
  {
   "cell_type": "code",
   "execution_count": 2,
   "id": "8646bdcb-e8f8-45e0-a811-3a98261378cf",
   "metadata": {},
   "outputs": [],
   "source": [
    "akshay=my_info(\"akshay\",26,\"m\")"
   ]
  },
  {
   "cell_type": "code",
   "execution_count": 4,
   "id": "a9586ff0-6f7e-417b-a0c7-b0797f891cfb",
   "metadata": {},
   "outputs": [
    {
     "data": {
      "text/plain": [
       "'akshay'"
      ]
     },
     "execution_count": 4,
     "metadata": {},
     "output_type": "execute_result"
    }
   ],
   "source": [
    "akshay.my_name"
   ]
  },
  {
   "cell_type": "code",
   "execution_count": 16,
   "id": "195a4861-7dd0-46fd-97c0-78c1b03f942e",
   "metadata": {},
   "outputs": [],
   "source": [
    "ab=my_info(\"akshay\",26,\"m\")"
   ]
  },
  {
   "cell_type": "code",
   "execution_count": 17,
   "id": "177af1f2-cf6c-4f9f-ba4f-911fb9a7caa5",
   "metadata": {},
   "outputs": [
    {
     "name": "stdout",
     "output_type": "stream",
     "text": [
      "akshay 26 m is a good boy\n"
     ]
    }
   ],
   "source": [
    "ab.characer()"
   ]
  },
  {
   "cell_type": "markdown",
   "id": "5f4cfd97-b957-4528-9db9-aa37006184c7",
   "metadata": {},
   "source": [
    "Ques 2. Name the four pillars of OOPs."
   ]
  },
  {
   "cell_type": "markdown",
   "id": "faad0aea-0fe5-4cda-811b-a8d689128518",
   "metadata": {},
   "source": [
    "Ans: (1) polymorphism   (2) inhertence  (3) encapsulation  (4) abstraction"
   ]
  },
  {
   "cell_type": "markdown",
   "id": "e352a2db-6597-4ca8-9159-a826bdd1a0a0",
   "metadata": {},
   "source": [
    "Ques 4. Why self is used in OOPs?\n",
    "\n",
    "Ans: The self parameter is a reference to the current instance of the class, and is used to access variables that belongs to the class.\n",
    "It does not have to be named self , you can call it whatever you like, but it has to be the first parameter of any function in the class:"
   ]
  },
  {
   "cell_type": "markdown",
   "id": "d7c6c974-9f15-49bf-be94-a48830f58ef7",
   "metadata": {},
   "source": [
    "Ques 5. What is inheritance? Give an example for each type of inheritance."
   ]
  },
  {
   "cell_type": "markdown",
   "id": "d20b56ad-ffe2-463e-9138-6ba26ee37a6c",
   "metadata": {},
   "source": [
    "Ans: Inheritance is a fundamental concept in object-oriented programming (OOP) that allows one class (subclass or derived class) to inherit attributes and methods from another class (superclass or base class).\\n\n",
    "different type of inheritence:\n",
    "(1) single inheritence  (2) multiple inhertence  (3) multilevel inheritence and etc"
   ]
  },
  {
   "cell_type": "code",
   "execution_count": null,
   "id": "c8437a5c-4b41-4a07-b5a8-a559e2806fda",
   "metadata": {},
   "outputs": [],
   "source": []
  }
 ],
 "metadata": {
  "kernelspec": {
   "display_name": "Python 3 (ipykernel)",
   "language": "python",
   "name": "python3"
  },
  "language_info": {
   "codemirror_mode": {
    "name": "ipython",
    "version": 3
   },
   "file_extension": ".py",
   "mimetype": "text/x-python",
   "name": "python",
   "nbconvert_exporter": "python",
   "pygments_lexer": "ipython3",
   "version": "3.11.4"
  }
 },
 "nbformat": 4,
 "nbformat_minor": 5
}
